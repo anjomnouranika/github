{
  "nbformat": 4,
  "nbformat_minor": 0,
  "metadata": {
    "colab": {
      "name": "Untitled8.ipynb",
      "provenance": [],
      "collapsed_sections": [],
      "authorship_tag": "ABX9TyPfjU+DbOxn5GMkuZWLbr1E",
      "include_colab_link": true
    },
    "kernelspec": {
      "name": "python3",
      "display_name": "Python 3"
    }
  },
  "cells": [
    {
      "cell_type": "markdown",
      "metadata": {
        "id": "view-in-github",
        "colab_type": "text"
      },
      "source": [
        "<a href=\"https://colab.research.google.com/github/anjomnouranika/github/blob/master/Untitled8.ipynb\" target=\"_parent\"><img src=\"https://colab.research.google.com/assets/colab-badge.svg\" alt=\"Open In Colab\"/></a>"
      ]
    },
    {
      "cell_type": "code",
      "metadata": {
        "id": "urtcW-rQS_DI",
        "colab_type": "code",
        "colab": {
          "base_uri": "https://localhost:8080/",
          "height": 51
        },
        "outputId": "92d24217-6c60-4247-c091-6550091fdfe8"
      },
      "source": [
        "num = input(\"Enter the string:\")\n",
        "if ((num >= 'a' and num <= 'z') or (num >= 'A' and num <= 'Z')):\n",
        "  print(\"Alphabate\")\n",
        "elif num >= '0' and num <= '9':\n",
        "  print(\"Number\")\n",
        "else:\n",
        "  print(\"special character\")    \n"
      ],
      "execution_count": null,
      "outputs": [
        {
          "output_type": "stream",
          "text": [
            "Enter the string:@\n",
            "special character\n"
          ],
          "name": "stdout"
        }
      ]
    }
  ]
}