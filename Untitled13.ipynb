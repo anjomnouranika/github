{
  "nbformat": 4,
  "nbformat_minor": 0,
  "metadata": {
    "colab": {
      "name": "Untitled13.ipynb",
      "provenance": [],
      "collapsed_sections": [],
      "authorship_tag": "ABX9TyM1je8cctk0GHTU/z9JbYxQ",
      "include_colab_link": true
    },
    "kernelspec": {
      "name": "python3",
      "display_name": "Python 3"
    }
  },
  "cells": [
    {
      "cell_type": "markdown",
      "metadata": {
        "id": "view-in-github",
        "colab_type": "text"
      },
      "source": [
        "<a href=\"https://colab.research.google.com/github/anjomnouranika/github/blob/master/Untitled13.ipynb\" target=\"_parent\"><img src=\"https://colab.research.google.com/assets/colab-badge.svg\" alt=\"Open In Colab\"/></a>"
      ]
    },
    {
      "cell_type": "code",
      "metadata": {
        "id": "r22cJDCDGc9a",
        "colab_type": "code",
        "colab": {
          "base_uri": "https://localhost:8080/",
          "height": 170
        },
        "outputId": "6e983ddc-00a4-49d8-80fc-7c617b5137d1"
      },
      "source": [
        "note = int(input(\"\"))\n",
        "if note >= 500:\n",
        "  a = note % 500\n",
        "  first = note - a\n",
        "  first = first / 500\n",
        "print(\"500:\",round(first))   \n",
        "if note >= 100:\n",
        "  b = a % 100\n",
        "  sceond = a - b\n",
        "  sceond = (a - b) / 100\n",
        "print(\"100:\",round(sceond))   \n",
        "if note >= 50:\n",
        "  c = a % 50\n",
        "  third = a - c\n",
        "  third = (a - c) / 50\n",
        "print(\"50:\",round(third))  \n",
        "if note >= 20:\n",
        "  d = c % 20\n",
        "  fourth = c - d\n",
        "  fourth = fourth / 20\n",
        "print(\"20:\",round(fourth))    \n",
        "if note >= 10: \n",
        "  e = d % 10\n",
        "  fifth = d - e\n",
        "  fifth = fifth / 10\n",
        "print(\"10:\",round(fifth))  \n",
        "if note >= 5:\n",
        "  f = e % 5\n",
        "  sixth = e - f\n",
        "  sixth = sixth /5\n",
        "print(\"5:\",round(sixth))  \n",
        "print(\"10:\",round(fifth))  \n",
        "if note >= 2:\n",
        "  g = f % 2\n",
        "  seventh = f - g\n",
        "  seventh = seventh / 2\n",
        "print(\"2:\",round(seventh))  \n",
        "\n",
        "        "
      ],
      "execution_count": null,
      "outputs": [
        {
          "output_type": "stream",
          "text": [
            "575\n",
            "500: 1\n",
            "100: 0\n",
            "50: 1\n",
            "20: 1\n",
            "10: 0\n",
            "5: 1\n",
            "10: 0\n",
            "2: 0\n"
          ],
          "name": "stdout"
        }
      ]
    },
    {
      "cell_type": "code",
      "metadata": {
        "id": "vqsfLZ9BGpz0",
        "colab_type": "code",
        "colab": {
          "base_uri": "https://localhost:8080/",
          "height": 153
        },
        "outputId": "a87ca5f5-2a37-4fa2-d1db-41a29bf8bc25"
      },
      "source": [
        "amound = int(input(\"\")) \n",
        "if amound >= 500:\n",
        "  note = amound / 500\n",
        "  note500 = amound - (note * 500)\n",
        "print(\"500:\",round(note))\n",
        "if amound >= 100:\n",
        "  note2 = note500 / 100 \n",
        "  note100 = note500 - (note2 * 100)\n",
        "print(\"100:\",round(note100)) \n",
        "if amound >= 50:\n",
        "  note3 =  / 50\n",
        "  note50 = amound - (note3 * 50)\n",
        "print(\"50:\",round(note50))\n",
        "if amound >= 20:\n",
        "  note4 = amound / 20\n",
        "  note20 = amound - (note4 * 20)\n",
        "print(\"20:\",round(note20))\n",
        "if amound >= 10:\n",
        "  note5 = amound / 10\n",
        "  note10 = amound - (note5 * 10)\n",
        "print(\"10:\",round(note10))\n",
        "if amound >= 5:\n",
        "  note6 = amound / 5\n",
        "  note5 = amound - (note6*5)\n",
        "print(\"5:\",round(note5))\n",
        "if amound >= 2:\n",
        "  note7 = amound / 2\n",
        "  note2 = amound  - (note7 * 2)\n",
        "print(\"2:\",round(note2))\n",
        "     \n"
      ],
      "execution_count": null,
      "outputs": [
        {
          "output_type": "stream",
          "text": [
            "575\n",
            "500: 0\n",
            "100: 0\n",
            "50: 0\n",
            "20: 0\n",
            "10: 0\n",
            "5: 0\n",
            "2: 0\n"
          ],
          "name": "stdout"
        }
      ]
    }
  ]
}