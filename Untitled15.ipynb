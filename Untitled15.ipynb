{
  "nbformat": 4,
  "nbformat_minor": 0,
  "metadata": {
    "colab": {
      "name": "Untitled15.ipynb",
      "provenance": [],
      "collapsed_sections": [],
      "authorship_tag": "ABX9TyMR2VnRHZsu0JIX7BrKrKFT",
      "include_colab_link": true
    },
    "kernelspec": {
      "name": "python3",
      "display_name": "Python 3"
    }
  },
  "cells": [
    {
      "cell_type": "markdown",
      "metadata": {
        "id": "view-in-github",
        "colab_type": "text"
      },
      "source": [
        "<a href=\"https://colab.research.google.com/github/anjomnouranika/github/blob/master/Untitled15.ipynb\" target=\"_parent\"><img src=\"https://colab.research.google.com/assets/colab-badge.svg\" alt=\"Open In Colab\"/></a>"
      ]
    },
    {
      "cell_type": "code",
      "metadata": {
        "id": "tpkCupn4goNz",
        "colab_type": "code",
        "colab": {
          "base_uri": "https://localhost:8080/",
          "height": 85
        },
        "outputId": "a6a0a69f-37e4-40f3-90d4-ec3e05f762a7"
      },
      "source": [
        "angle1 = int(input(\"angke1 = \"))\n",
        "angle2 = int(input(\"angle2 = \"))\n",
        "angle3 = int(input(\"angle3 = \"))\n",
        "sum = angle1 + angle2 + angle3\n",
        "if sum == 180:\n",
        "  if (angle1 > 0 and angle2 > 0 and angle3 > 0):\n",
        "      print(\"valid\")\n",
        "else:\n",
        "  print(\"invalid\")   "
      ],
      "execution_count": 7,
      "outputs": [
        {
          "output_type": "stream",
          "text": [
            "angke1 = 60\n",
            "angle2 = 30\n",
            "angle3 = 90\n",
            "valid\n"
          ],
          "name": "stdout"
        }
      ]
    }
  ]
}