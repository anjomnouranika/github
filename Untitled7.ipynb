{
  "nbformat": 4,
  "nbformat_minor": 0,
  "metadata": {
    "colab": {
      "name": "Untitled7.ipynb",
      "provenance": [],
      "collapsed_sections": [],
      "authorship_tag": "ABX9TyM/Xb76Up9wJW7cjETAfJ44",
      "include_colab_link": true
    },
    "kernelspec": {
      "name": "python3",
      "display_name": "Python 3"
    }
  },
  "cells": [
    {
      "cell_type": "markdown",
      "metadata": {
        "id": "view-in-github",
        "colab_type": "text"
      },
      "source": [
        "<a href=\"https://colab.research.google.com/github/anjomnouranika/github/blob/master/Untitled7.ipynb\" target=\"_parent\"><img src=\"https://colab.research.google.com/assets/colab-badge.svg\" alt=\"Open In Colab\"/></a>"
      ]
    },
    {
      "cell_type": "code",
      "metadata": {
        "id": "1wPaAhm19Rd8",
        "colab_type": "code",
        "colab": {
          "base_uri": "https://localhost:8080/",
          "height": 51
        },
        "outputId": "ac9e8ea2-b93a-4750-8bad-10bf1ba95568"
      },
      "source": [
        "char = input(\" please enter the string:\")\n",
        "if (( char == 'a' or char == 'i' or char == 'e' or char == 'o' or char == 'u') or (char == 'A' or char == 'E' or char == 'i' or char == 'O' or char == 'U')):\n",
        "  print(\"vowel\")\n",
        "elif ((char >= 'a' and char <= 'z') or (char >= 'A' and char <= 'Z')) :\n",
        "  print(\"consonant\") \n",
        "else:\n",
        "  print(\"not alphabate\")   "
      ],
      "execution_count": null,
      "outputs": [
        {
          "output_type": "stream",
          "text": [
            " please enter the string:@\n",
            "not alphabate\n"
          ],
          "name": "stdout"
        }
      ]
    }
  ]
}